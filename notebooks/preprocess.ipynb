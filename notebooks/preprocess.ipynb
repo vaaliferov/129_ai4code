{
 "cells": [
  {
   "cell_type": "code",
   "execution_count": null,
   "metadata": {},
   "outputs": [],
   "source": [
    "import os\n",
    "import sys\n",
    "import warnings\n",
    "import transformers"
   ]
  },
  {
   "cell_type": "code",
   "execution_count": null,
   "metadata": {},
   "outputs": [],
   "source": [
    "import random\n",
    "import joblib\n",
    "import sklearn\n",
    "import numpy as np\n",
    "import pandas as pd"
   ]
  },
  {
   "cell_type": "code",
   "execution_count": null,
   "metadata": {},
   "outputs": [],
   "source": [
    "random.seed(0)\n",
    "np.random.seed(0)\n",
    "warnings.filterwarnings('ignore')\n",
    "os.environ['TF_CPP_MIN_LOG_LEVEL'] = '3'\n",
    "os.environ['TOKENIZERS_PARALLELISM'] = 'true'\n",
    "sys.path.insert(0, '../input/ai4code-source')\n",
    "transformers.utils.logging.set_verbosity_error()"
   ]
  },
  {
   "cell_type": "code",
   "execution_count": null,
   "metadata": {},
   "outputs": [],
   "source": [
    "from dataset import save_size\n",
    "from dataset import save_triplets\n",
    "from dataset import get_match_input"
   ]
  },
  {
   "cell_type": "code",
   "execution_count": null,
   "metadata": {},
   "outputs": [],
   "source": [
    "from loader import load_notebooks\n",
    "from loader import train_test_split\n",
    "from loader import get_train_pct_ranks"
   ]
  },
  {
   "cell_type": "code",
   "execution_count": null,
   "metadata": {},
   "outputs": [],
   "source": [
    "from extractor import extract_reg_data\n",
    "from extractor import extract_match_data"
   ]
  },
  {
   "cell_type": "code",
   "execution_count": null,
   "metadata": {},
   "outputs": [],
   "source": [
    "from transformers import AutoTokenizer"
   ]
  },
  {
   "cell_type": "code",
   "execution_count": null,
   "metadata": {},
   "outputs": [],
   "source": [
    "os.makedirs('/tmp/data', exist_ok=True)\n",
    "os.makedirs('/tmp/tfrecs', exist_ok=True)\n",
    "os.makedirs('/tmp/models', exist_ok=True)\n",
    "os.makedirs('/tmp/tokenizers', exist_ok=True)"
   ]
  },
  {
   "cell_type": "code",
   "execution_count": null,
   "metadata": {},
   "outputs": [],
   "source": [
    "df = load_notebooks('../input/AI4Code/train', 150000)\n",
    "orders_df = pd.read_csv('../input/AI4Code/train_orders.csv')\n",
    "ancestors_df = pd.read_csv('../input/AI4Code/train_ancestors.csv')"
   ]
  },
  {
   "cell_type": "code",
   "execution_count": null,
   "metadata": {},
   "outputs": [],
   "source": [
    "df['pct_rank'] = get_train_pct_ranks(df, orders_df)"
   ]
  },
  {
   "cell_type": "code",
   "execution_count": null,
   "metadata": {},
   "outputs": [],
   "source": [
    "train_df, valid_df = train_test_split(df, ancestors_df, 0.05, 0)"
   ]
  },
  {
   "cell_type": "code",
   "execution_count": null,
   "metadata": {},
   "outputs": [],
   "source": [
    "sorted_train_df = train_df.sort_values(['id','pct_rank'])\n",
    "sorted_valid_df = valid_df.sort_values(['id','pct_rank'])"
   ]
  },
  {
   "cell_type": "code",
   "execution_count": null,
   "metadata": {},
   "outputs": [],
   "source": [
    "sorted_valid_df.reset_index(drop=True).to_feather('/tmp/data/valid.ftr')"
   ]
  },
  {
   "cell_type": "code",
   "execution_count": null,
   "metadata": {},
   "outputs": [],
   "source": [
    "name = 'microsoft/codebert-base'\n",
    "model = TFAutoModel.from_pretrained(name)\n",
    "tokenizer = AutoTokenizer.from_pretrained(name)\n",
    "train_data = extract_reg_data(sorted_train_df, tokenizer, 72, 22, 512)\n",
    "valid_data = extract_reg_data(sorted_valid_df, tokenizer, 72, 22, 512)\n",
    "np.savez_compressed('/tmp/data/train_reg.npz', **train_data)\n",
    "np.savez_compressed('/tmp/data/valid_reg.npz', **valid_data)\n",
    "tokenizer.save_pretrained('/tmp/tokenizers/codebert')\n",
    "model.save_pretrained('/tmp/models/codebert')"
   ]
  },
  {
   "cell_type": "code",
   "execution_count": null,
   "metadata": {},
   "outputs": [],
   "source": [
    "name = 'microsoft/unixcoder-base'\n",
    "tokenizer = AutoTokenizer.from_pretrained(name)\n",
    "model = TFAutoModel.from_pretrained(name, from_pt=True)\n",
    "train_data = extract_match_data(sorted_train_df, tokenizer, 128, 7)\n",
    "valid_data = extract_match_data(sorted_valid_df, tokenizer, 128, 7)\n",
    "np.savez_compressed('/tmp/data/train_match.npz', **train_data)\n",
    "np.savez_compressed('/tmp/data/valid_match.npz', **valid_data)\n",
    "tokenizer.save_pretrained('/tmp/tokenizers/unixcoder')\n",
    "model.save_pretrained('/tmp/models/unixcoder')"
   ]
  },
  {
   "cell_type": "code",
   "execution_count": null,
   "metadata": {},
   "outputs": [],
   "source": [
    "df = sklearn.utils.shuffle(df, random_state=0)\n",
    "ancestors = df['id'].map(ancestors_df.set_index('id')['ancestor_id'].to_dict())\n",
    "folds = sklearn.model_selection.GroupKFold(80).split(df, groups=ancestors)\n",
    "tokenizer = AutoTokenizer.from_pretrained('microsoft/unixcoder-base')\n",
    "\n",
    "total_num = 0\n",
    "for i, (_, idx) in enumerate(folds):\n",
    "    data = extract_match_data(df.iloc[idx], tokenizer, 128, 7) \n",
    "    save_triplets(get_match_input(data), f'/tmp/tfrecs/m{i:02}.tfrec')\n",
    "    total_num += len(data['anc_idx'])\n",
    "\n",
    "save_size(total_num, '/tmp/tfrecs/size.txt')"
   ]
  },
  {
   "cell_type": "code",
   "execution_count": null,
   "metadata": {},
   "outputs": [],
   "source": [
    "!mkdir ~/.kaggle\n",
    "!touch ~/.kaggle/kaggle.json\n",
    "!chmod 600 ~/.kaggle/kaggle.json"
   ]
  },
  {
   "cell_type": "code",
   "execution_count": null,
   "metadata": {},
   "outputs": [],
   "source": [
    "%%writefile ~/.kaggle/kaggle.json\n",
    "{\"username\":\"valentinaliferov\",\"key\":\"<key>\"}"
   ]
  },
  {
   "cell_type": "code",
   "execution_count": null,
   "metadata": {},
   "outputs": [],
   "source": [
    "%%writefile /tmp/data/dataset-metadata.json\n",
    "{\"title\":\"ai4code_data\",\"id\":\"valentinaliferov/ai4code-data\",\"licenses\":[{\"name\":\"CC0-1.0\"}]}"
   ]
  },
  {
   "cell_type": "code",
   "execution_count": null,
   "metadata": {},
   "outputs": [],
   "source": [
    "%%writefile /tmp/tfrecs/dataset-metadata.json\n",
    "{\"title\":\"ai4code_tfrecs\",\"id\":\"valentinaliferov/ai4code-tfrecs\",\"licenses\":[{\"name\":\"CC0-1.0\"}]}"
   ]
  },
  {
   "cell_type": "code",
   "execution_count": null,
   "metadata": {},
   "outputs": [],
   "source": [
    "%%writefile /tmp/models/dataset-metadata.json\n",
    "{\"title\":\"ai4code_models\",\"id\":\"valentinaliferov/ai4code-models\",\"licenses\":[{\"name\":\"CC0-1.0\"}]}"
   ]
  },
  {
   "cell_type": "code",
   "execution_count": null,
   "metadata": {},
   "outputs": [],
   "source": [
    "%%writefile /tmp/tokenizers/dataset-metadata.json\n",
    "{\"title\":\"ai4code_tokenizers\",\"id\":\"valentinaliferov/ai4code-tokenizers\",\"licenses\":[{\"name\":\"CC0-1.0\"}]}"
   ]
  },
  {
   "cell_type": "code",
   "execution_count": null,
   "metadata": {},
   "outputs": [],
   "source": [
    "!kaggle datasets version -r zip -p /tmp/data -m 'update'\n",
    "!kaggle datasets version -r zip -p /tmp/tfrecs -m 'update'\n",
    "!kaggle datasets version -r zip -p /tmp/models -m 'update'\n",
    "!kaggle datasets version -r zip -p /tmp/tokenizers -m 'update'"
   ]
  }
 ],
 "metadata": {
  "kernelspec": {
   "display_name": "Python 3 (ipykernel)",
   "language": "python",
   "name": "python3"
  },
  "language_info": {
   "codemirror_mode": {
    "name": "ipython",
    "version": 3
   },
   "file_extension": ".py",
   "mimetype": "text/x-python",
   "name": "python",
   "nbconvert_exporter": "python",
   "pygments_lexer": "ipython3",
   "version": "3.10.4"
  }
 },
 "nbformat": 4,
 "nbformat_minor": 4
}
