{
 "cells": [
  {
   "cell_type": "code",
   "execution_count": null,
   "id": "6dc4feed",
   "metadata": {
    "papermill": {
     "duration": 0.249402,
     "end_time": "2022-08-11T20:33:31.164078",
     "exception": false,
     "start_time": "2022-08-11T20:33:30.914676",
     "status": "completed"
    },
    "tags": []
   },
   "outputs": [],
   "source": [
    "import os\n",
    "import sys\n",
    "import warnings\n",
    "import transformers"
   ]
  },
  {
   "cell_type": "code",
   "execution_count": null,
   "id": "d036d7f8",
   "metadata": {
    "papermill": {
     "duration": 0.012198,
     "end_time": "2022-08-11T20:33:31.179053",
     "exception": false,
     "start_time": "2022-08-11T20:33:31.166855",
     "status": "completed"
    },
    "tags": []
   },
   "outputs": [],
   "source": [
    "warnings.filterwarnings('ignore')\n",
    "os.environ['TF_CPP_MIN_LOG_LEVEL'] = '3'\n",
    "os.environ['TOKENIZERS_PARALLELISM'] = 'true'\n",
    "sys.path.insert(0, '../input/ai4code-source')\n",
    "transformers.utils.logging.set_verbosity_error()"
   ]
  },
  {
   "cell_type": "code",
   "execution_count": null,
   "id": "e0b4d517",
   "metadata": {
    "papermill": {
     "duration": 5.456161,
     "end_time": "2022-08-11T20:33:36.637523",
     "exception": false,
     "start_time": "2022-08-11T20:33:31.181362",
     "status": "completed"
    },
    "tags": []
   },
   "outputs": [],
   "source": [
    "import numpy as np\n",
    "import pandas as pd\n",
    "from tqdm import tqdm\n",
    "import tensorflow as tf"
   ]
  },
  {
   "cell_type": "code",
   "execution_count": null,
   "id": "1deed1f6-a3a9-4541-a3a6-46ea9c266b78",
   "metadata": {},
   "outputs": [],
   "source": [
    "from utils import submit"
   ]
  },
  {
   "cell_type": "code",
   "execution_count": null,
   "id": "e221f956-48e0-40d7-bc8f-99f59bd22976",
   "metadata": {},
   "outputs": [],
   "source": [
    "from dataset import get_dataset\n",
    "from dataset import get_reg_input"
   ]
  },
  {
   "cell_type": "code",
   "execution_count": null,
   "id": "9a1e4bcb-bd5c-4420-894e-18f34de83f0d",
   "metadata": {},
   "outputs": [],
   "source": [
    "from loader import get_pct_ranks\n",
    "from loader import load_notebooks"
   ]
  },
  {
   "cell_type": "code",
   "execution_count": null,
   "id": "c8070145-bb1b-4ac2-a768-31778a361469",
   "metadata": {},
   "outputs": [],
   "source": [
    "from extractor import extract_reg_data\n",
    "from extractor import extract_match_data"
   ]
  },
  {
   "cell_type": "code",
   "execution_count": null,
   "id": "a299a35c-e40a-418a-ab73-18040e2d26d5",
   "metadata": {},
   "outputs": [],
   "source": [
    "from model import get_reg_model\n",
    "from model import get_match_model\n",
    "from model import pairwise_cosine_similarity"
   ]
  },
  {
   "cell_type": "code",
   "execution_count": null,
   "id": "725808c8-256b-47d2-b5a0-2f1c5fd79e5b",
   "metadata": {},
   "outputs": [],
   "source": [
    "from transformers import AutoTokenizer"
   ]
  },
  {
   "cell_type": "code",
   "execution_count": null,
   "id": "b3c30a26",
   "metadata": {
    "_cell_guid": "b1076dfc-b9ad-4769-8c92-a6c4dae69d19",
    "_uuid": "8f2839f25d086af736a60e9eeb907d3b93b6e0e5",
    "papermill": {
     "duration": 0.058553,
     "end_time": "2022-08-11T20:33:38.409971",
     "exception": false,
     "start_time": "2022-08-11T20:33:38.351418",
     "status": "completed"
    },
    "tags": []
   },
   "outputs": [],
   "source": [
    "test_df = load_notebooks('../input/AI4Code/test', 150000)\n",
    "test_df['pct_rank'] = get_pct_ranks(test_df, ['id','cell_type'])"
   ]
  },
  {
   "cell_type": "code",
   "execution_count": null,
   "id": "f60ebbe1",
   "metadata": {
    "papermill": {
     "duration": 29.907576,
     "end_time": "2022-08-11T20:34:08.320294",
     "exception": false,
     "start_time": "2022-08-11T20:33:38.412718",
     "status": "completed"
    },
    "tags": []
   },
   "outputs": [],
   "source": [
    "tokenizer = AutoTokenizer.from_pretrained('../input/ai4code-tokenizers/codebert')\n",
    "regressor = get_reg_model('../input/ai4code-models/codebert', pad_token_id=1)\n",
    "regressor.load_weights('../input/ai4code-weights/reg-last-0.08864-0.8571.h5')"
   ]
  },
  {
   "cell_type": "code",
   "execution_count": null,
   "id": "b332af78-5ee3-46f3-acd3-cbd93cd6e643",
   "metadata": {},
   "outputs": [],
   "source": [
    "test_data = extract_reg_data(test_df, tokenizer, 72, 22, 512)\n",
    "test_dataset = get_dataset(data=get_reg_input(test_data), batch_size=64)"
   ]
  },
  {
   "cell_type": "code",
   "execution_count": null,
   "id": "3997f467-0358-429c-ac43-0cb1bb7232ae",
   "metadata": {},
   "outputs": [],
   "source": [
    "reg_ranks = regressor.predict(test_dataset, verbose=1)[:,0]\n",
    "del regressor, test_data, test_dataset"
   ]
  },
  {
   "cell_type": "code",
   "execution_count": null,
   "id": "075cbaa9-0f93-4a7b-b6ef-20b464d7b858",
   "metadata": {},
   "outputs": [],
   "source": [
    "p = dict(pad_token_id=1, batch_size=64, from_pt=False)\n",
    "embedder, model = get_match_model('../input/ai4code-models/unixcoder', **p)\n",
    "tokenizer = AutoTokenizer.from_pretrained('../input/ai4code-tokenizers/unixcoder')\n",
    "model.load_weights('../input/ai4code-weights/match-0.8451.h5')"
   ]
  },
  {
   "cell_type": "code",
   "execution_count": null,
   "id": "9c3b7493-69a7-4e79-909e-52b82fdd43d2",
   "metadata": {},
   "outputs": [],
   "source": [
    "test_data = extract_match_data(test_df, tokenizer, 128, 7)\n",
    "marks_dataset = get_dataset(data=test_data['mark_ids'], batch_size=64)\n",
    "codes_dataset = get_dataset(data=test_data['code_ids'], batch_size=64)\n",
    "marks_embs = embedder.predict(marks_dataset, verbose=1)\n",
    "codes_embs = embedder.predict(codes_dataset, verbose=1)"
   ]
  },
  {
   "cell_type": "code",
   "execution_count": null,
   "id": "3eef2684-5eef-4a09-83bf-d6ec74ef65c7",
   "metadata": {},
   "outputs": [],
   "source": [
    "predicted = []\n",
    "nb_mark_max_idx = test_data['mark_nb'].max()\n",
    "nb_code_max_idx = test_data['code_nb'].max()\n",
    "nb_max_idx = max(nb_mark_max_idx, nb_code_max_idx)\n",
    "\n",
    "for i in tqdm(range(nb_max_idx + 1)):\n",
    "    \n",
    "    m = test_data['mark_nb'] == i\n",
    "    c = test_data['code_nb'] == i\n",
    "    \n",
    "    if m.sum() > 0 and c.sum() == 0:\n",
    "        predicted.append(test_data['mark_pos'][m])\n",
    "    \n",
    "    if m.sum() > 0 and c.sum() > 0:\n",
    "        scores = pairwise_cosine_similarity(marks_embs[m], codes_embs[c])\n",
    "        predicted.append(test_data['code_pos'][c][tf.argmax(scores, axis=1).numpy()])\n",
    "\n",
    "del model, test_data, marks_dataset, codes_dataset, marks_embs, codes_embs\n",
    "match_ranks = np.concatenate(predicted) - 0.001"
   ]
  },
  {
   "cell_type": "code",
   "execution_count": null,
   "id": "dca38430",
   "metadata": {
    "papermill": {
     "duration": 0.039849,
     "end_time": "2022-08-11T20:34:28.969470",
     "exception": false,
     "start_time": "2022-08-11T20:34:28.929621",
     "status": "completed"
    },
    "tags": []
   },
   "outputs": [],
   "source": [
    "submit(test_df, reg_ranks, match_ranks, rerank_match=True, reg_coef=1.2, match_coef=0.8)"
   ]
  }
 ],
 "metadata": {
  "kernelspec": {
   "display_name": "Python 3 (ipykernel)",
   "language": "python",
   "name": "python3"
  },
  "language_info": {
   "codemirror_mode": {
    "name": "ipython",
    "version": 3
   },
   "file_extension": ".py",
   "mimetype": "text/x-python",
   "name": "python",
   "nbconvert_exporter": "python",
   "pygments_lexer": "ipython3",
   "version": "3.10.4"
  },
  "papermill": {
   "default_parameters": {},
   "duration": 69.360214,
   "end_time": "2022-08-11T20:34:32.404847",
   "environment_variables": {},
   "exception": null,
   "input_path": "__notebook__.ipynb",
   "output_path": "__notebook__.ipynb",
   "parameters": {},
   "start_time": "2022-08-11T20:33:23.044633",
   "version": "2.3.4"
  }
 },
 "nbformat": 4,
 "nbformat_minor": 5
}
